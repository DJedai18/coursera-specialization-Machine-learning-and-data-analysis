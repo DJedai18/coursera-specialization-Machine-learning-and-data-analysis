{
  "nbformat": 4,
  "nbformat_minor": 0,
  "metadata": {
    "colab": {
      "name": "С2W4.ipynb",
      "version": "0.3.2",
      "provenance": [],
      "collapsed_sections": [],
      "toc_visible": true
    },
    "kernelspec": {
      "name": "python3",
      "display_name": "Python 3"
    }
  },
  "cells": [
    {
      "cell_type": "markdown",
      "metadata": {
        "id": "S3c38wV4CHls",
        "colab_type": "text"
      },
      "source": [
        "# Bagging and RandomForest\n",
        "\n"
      ]
    },
    {
      "cell_type": "markdown",
      "metadata": {
        "id": "LlQnkZHKCWX0",
        "colab_type": "text"
      },
      "source": [
        "## Preparation"
      ]
    },
    {
      "cell_type": "code",
      "metadata": {
        "id": "ngz7VFn_B-K0",
        "colab_type": "code",
        "colab": {}
      },
      "source": [
        "import pandas as pd\n",
        "import math\n",
        "import numpy as np\n",
        "import matplotlib.pyplot as plt\n",
        "from sklearn.datasets import load_digits\n",
        "from sklearn.model_selection import cross_val_score\n",
        "from sklearn.tree import DecisionTreeClassifier\n",
        "from sklearn.ensemble import BaggingClassifier, RandomForestClassifier"
      ],
      "execution_count": 0,
      "outputs": []
    },
    {
      "cell_type": "code",
      "metadata": {
        "id": "pFjV23D5DMl1",
        "colab_type": "code",
        "colab": {}
      },
      "source": [
        "digits = load_digits()\n",
        "X, y = digits.data, digits.target"
      ],
      "execution_count": 0,
      "outputs": []
    },
    {
      "cell_type": "code",
      "metadata": {
        "id": "6Pm_2eZFE9Ok",
        "colab_type": "code",
        "colab": {}
      },
      "source": [
        "def write_answer(answer, num):\n",
        "  with open(\"C2W4_answer{}.txt\".format(num), \"w\") as f:\n",
        "    f.write(str(answer))"
      ],
      "execution_count": 0,
      "outputs": []
    },
    {
      "cell_type": "markdown",
      "metadata": {
        "id": "qpblxfibED3g",
        "colab_type": "text"
      },
      "source": [
        "## DecisionTreeClassifier "
      ]
    },
    {
      "cell_type": "code",
      "metadata": {
        "id": "BSOQhUlOEJ9D",
        "colab_type": "code",
        "outputId": "1a65e6f7-8ee3-4e0e-a5a9-c4d6fdec256f",
        "colab": {
          "base_uri": "https://localhost:8080/",
          "height": 34
        }
      },
      "source": [
        "dtree_model = DecisionTreeClassifier()\n",
        "dtree_rate = cross_val_score(dtree_model, X, y, cv=10).mean() \n",
        "dtree_rate"
      ],
      "execution_count": 4,
      "outputs": [
        {
          "output_type": "execute_result",
          "data": {
            "text/plain": [
              "0.8286025364545747"
            ]
          },
          "metadata": {
            "tags": []
          },
          "execution_count": 4
        }
      ]
    },
    {
      "cell_type": "code",
      "metadata": {
        "id": "B08g8EApGF6E",
        "colab_type": "code",
        "colab": {}
      },
      "source": [
        "write_answer(dtree_rate, 1)"
      ],
      "execution_count": 0,
      "outputs": []
    },
    {
      "cell_type": "markdown",
      "metadata": {
        "id": "96KMt1IyGLcc",
        "colab_type": "text"
      },
      "source": [
        "## BaggingClassifier "
      ]
    },
    {
      "cell_type": "code",
      "metadata": {
        "id": "EhMtuxxbGQF8",
        "colab_type": "code",
        "outputId": "d5a7410a-dc91-4958-a804-590c1d737c39",
        "colab": {
          "base_uri": "https://localhost:8080/",
          "height": 34
        }
      },
      "source": [
        "bg_model = BaggingClassifier(n_estimators=100)\n",
        "bg_rate = cross_val_score(bg_model, X, y, cv=10).mean()\n",
        "bg_rate"
      ],
      "execution_count": 6,
      "outputs": [
        {
          "output_type": "execute_result",
          "data": {
            "text/plain": [
              "0.9221771683367205"
            ]
          },
          "metadata": {
            "tags": []
          },
          "execution_count": 6
        }
      ]
    },
    {
      "cell_type": "code",
      "metadata": {
        "id": "fQw2jzB8Hpxk",
        "colab_type": "code",
        "colab": {}
      },
      "source": [
        "write_answer(bg_rate, 2)"
      ],
      "execution_count": 0,
      "outputs": []
    },
    {
      "cell_type": "markdown",
      "metadata": {
        "id": "s8OFBR8fH_jw",
        "colab_type": "text"
      },
      "source": [
        "## BaggingClassifier with features control"
      ]
    },
    {
      "cell_type": "code",
      "metadata": {
        "id": "vtGe7Wt-Hvak",
        "colab_type": "code",
        "outputId": "df7c64fc-282d-4a9c-a608-8f8c978100ec",
        "colab": {
          "base_uri": "https://localhost:8080/",
          "height": 34
        }
      },
      "source": [
        "data_features = X.shape[1]\n",
        "max_features = round(math.sqrt(data_features))\n",
        "bg2_model = BaggingClassifier(n_estimators=100, max_features=max_features)\n",
        "bg2_rate = cross_val_score(bg2_model, X, y, cv=10).mean()\n",
        "bg2_rate"
      ],
      "execution_count": 8,
      "outputs": [
        {
          "output_type": "execute_result",
          "data": {
            "text/plain": [
              "0.9293718507286212"
            ]
          },
          "metadata": {
            "tags": []
          },
          "execution_count": 8
        }
      ]
    },
    {
      "cell_type": "code",
      "metadata": {
        "id": "dwedms5AJKQB",
        "colab_type": "code",
        "colab": {}
      },
      "source": [
        "write_answer(bg2_rate, 3)"
      ],
      "execution_count": 0,
      "outputs": []
    },
    {
      "cell_type": "markdown",
      "metadata": {
        "id": "IH127Hr5K26c",
        "colab_type": "text"
      },
      "source": [
        "## BaggingClassifier with randomized  DecisionTree"
      ]
    },
    {
      "cell_type": "code",
      "metadata": {
        "id": "fLJdgJvDJxft",
        "colab_type": "code",
        "outputId": "e2b16d0d-2c1c-4629-f02d-733ad447699d",
        "colab": {
          "base_uri": "https://localhost:8080/",
          "height": 34
        }
      },
      "source": [
        "bg3_model = BaggingClassifier(\n",
        "    n_estimators=100, \n",
        "    base_estimator=DecisionTreeClassifier(max_features=max_features)\n",
        ")\n",
        "bg3_rate = cross_val_score(bg3_model, X, y, cv=10).mean()\n",
        "bg3_rate"
      ],
      "execution_count": 10,
      "outputs": [
        {
          "output_type": "execute_result",
          "data": {
            "text/plain": [
              "0.9532492848189227"
            ]
          },
          "metadata": {
            "tags": []
          },
          "execution_count": 10
        }
      ]
    },
    {
      "cell_type": "code",
      "metadata": {
        "id": "O0QIOxNLLcNm",
        "colab_type": "code",
        "colab": {}
      },
      "source": [
        "write_answer(bg3_rate, 4)"
      ],
      "execution_count": 0,
      "outputs": []
    },
    {
      "cell_type": "markdown",
      "metadata": {
        "id": "WAPYtnnpLftM",
        "colab_type": "text"
      },
      "source": [
        "## RandomForestClassifier VS  BaggingClassifier with randomized  DecisionTree"
      ]
    },
    {
      "cell_type": "code",
      "metadata": {
        "id": "JtiVgcf_L_Ws",
        "colab_type": "code",
        "colab": {}
      },
      "source": [
        "def check_param(params):\n",
        "  rf_model = RandomForestClassifier(\n",
        "      **params)\n",
        "  rf_rate = cross_val_score(bg2_model, X, y, cv=10, n_jobs=4).mean()\n",
        "  return rf_rate"
      ],
      "execution_count": 0,
      "outputs": []
    },
    {
      "cell_type": "code",
      "metadata": {
        "id": "D68gga9-eWf3",
        "colab_type": "code",
        "colab": {
          "base_uri": "https://localhost:8080/",
          "height": 300
        },
        "outputId": "880c69af-c5d7-4776-e106-bed842dba0d8"
      },
      "source": [
        "depth_vars = np.arange(0, 100, 5)[1:]\n",
        "all_params = [({\n",
        "        'max_depth': var,\n",
        "        'n_estimators': 100,\n",
        "        'max_features': max_features\n",
        "}) for var in depth_vars]\n",
        "plt.plot(depth_vars, [check_param(params) for params in all_params])\n",
        "\n",
        "plt.xlabel('depth')\n",
        "plt.ylabel('val_score')"
      ],
      "execution_count": 13,
      "outputs": [
        {
          "output_type": "execute_result",
          "data": {
            "text/plain": [
              "Text(0, 0.5, 'val_score')"
            ]
          },
          "metadata": {
            "tags": []
          },
          "execution_count": 13
        },
        {
          "output_type": "display_data",
          "data": {
            "image/png": "[encoded data removed]",
            "text/plain": [
              "<Figure size 432x288 with 1 Axes>"
            ]
          },
          "metadata": {
            "tags": []
          }
        }
      ]
    },
    {
      "cell_type": "code",
      "metadata": {
        "id": "HsbsmwDoIgQT",
        "colab_type": "code",
        "colab": {
          "base_uri": "https://localhost:8080/",
          "height": 301
        },
        "outputId": "31387246-06a4-44ec-b217-678545e95a9b"
      },
      "source": [
        "n_estimators_vars = np.arange(10, 100, 10)\n",
        "all_params = [({\n",
        "        'max_depth': 5,\n",
        "        'n_estimators': var,\n",
        "        'max_features': max_features\n",
        "}) for var in n_estimators_vars]\n",
        "plt.plot(n_estimators_vars, [check_param(params) for params in all_params])\n",
        "\n",
        "plt.xlabel('n_estimators')\n",
        "plt.ylabel('val_score')"
      ],
      "execution_count": 14,
      "outputs": [
        {
          "output_type": "execute_result",
          "data": {
            "text/plain": [
              "Text(0, 0.5, 'val_score')"
            ]
          },
          "metadata": {
            "tags": []
          },
          "execution_count": 14
        },
        {
          "output_type": "display_data",
          "data": {
            "image/png": "[encoded data removed]",
            "text/plain": [
              "<Figure size 432x288 with 1 Axes>"
            ]
          },
          "metadata": {
            "tags": []
          }
        }
      ]
    },
    {
      "cell_type": "code",
      "metadata": {
        "id": "Ch56F7c_c25q",
        "colab_type": "code",
        "colab": {
          "base_uri": "https://localhost:8080/",
          "height": 300
        },
        "outputId": "ffda40c5-ece5-42e0-a98e-06a6b9a84543"
      },
      "source": [
        "features_vars = np.arange(10, 100, 10)\n",
        "all_params = [({\n",
        "        'max_depth': 5,\n",
        "        'n_estimators': 60,\n",
        "        'max_features': var\n",
        "}) for var in features_vars]\n",
        "plt.plot(features_vars, [check_param(params) for params in all_params])\n",
        "\n",
        "plt.xlabel('features')\n",
        "plt.ylabel('val_score')"
      ],
      "execution_count": 15,
      "outputs": [
        {
          "output_type": "execute_result",
          "data": {
            "text/plain": [
              "Text(0, 0.5, 'val_score')"
            ]
          },
          "metadata": {
            "tags": []
          },
          "execution_count": 15
        },
        {
          "output_type": "display_data",
          "data": {
            "image/png": "[encoded data removed]",
            "text/plain": [
              "<Figure size 432x288 with 1 Axes>"
            ]
          },
          "metadata": {
            "tags": []
          }
        }
      ]
    },
    {
      "cell_type": "code",
      "metadata": {
        "id": "fe8oZppChGzn",
        "colab_type": "code",
        "colab": {}
      },
      "source": [
        "write_answer('2 3 4 7', 5) # answers to assignment questions"
      ],
      "execution_count": 0,
      "outputs": []
    }
  ]
}