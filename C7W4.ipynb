{
  "nbformat": 4,
  "nbformat_minor": 0,
  "metadata": {
    "kernelspec": {
      "display_name": "Python 3",
      "language": "python",
      "name": "python3"
    },
    "language_info": {
      "codemirror_mode": {
        "name": "ipython",
        "version": 3
      },
      "file_extension": ".py",
      "mimetype": "text/x-python",
      "name": "python",
      "nbconvert_exporter": "python",
      "pygments_lexer": "ipython3",
      "version": "3.6.6"
    },
    "colab": {
      "name": "C7W4.ipynb",
      "provenance": []
    }
  },
  "cells": [
    {
      "cell_type": "code",
      "metadata": {
        "trusted": true,
        "id": "IlT2iWZlM9QN",
        "colab_type": "code",
        "colab": {}
      },
      "source": [
        "import pandas as pd\n",
        "import numpy as np\n",
        "from sklearn.preprocessing import LabelEncoder\n",
        "from sklearn.model_selection import StratifiedKFold, cross_validate\n",
        "from sklearn import metrics\n",
        "from sklearn.model_selection import train_test_split\n",
        "import xgboost as xgb\n",
        "from xgboost import XGBClassifier\n",
        "from mlxtend.evaluate import lift_score\n",
        "from sklearn.metrics import make_scorer\n",
        "import matplotlib.pyplot as plt\n",
        "import warnings\n",
        "warnings.filterwarnings('ignore')\n",
        "%matplotlib inline"
      ],
      "execution_count": 0,
      "outputs": []
    },
    {
      "cell_type": "code",
      "metadata": {
        "trusted": true,
        "id": "M-wTfCNLM9QR",
        "colab_type": "code",
        "colab": {}
      },
      "source": [
        "df = pd.read_csv('orange_small_churn_train_data.csv')\n",
        "df_test = pd.read_csv('orange_small_churn_test_data.csv')\n",
        "target = 'labels'\n",
        "IDcol = 'ID'"
      ],
      "execution_count": 0,
      "outputs": []
    },
    {
      "cell_type": "code",
      "metadata": {
        "trusted": true,
        "id": "d0Zo02cZM9QU",
        "colab_type": "code",
        "colab": {}
      },
      "source": [
        "cat_columns = df.select_dtypes(include='object').columns\n",
        "df[cat_columns] = df[cat_columns].astype(np.str)\n",
        "df_test[cat_columns] = df_test[cat_columns].astype(np.str)\n",
        "df.loc[df[target]==-1, target] = 0"
      ],
      "execution_count": 0,
      "outputs": []
    },
    {
      "cell_type": "code",
      "metadata": {
        "trusted": true,
        "id": "rSwU14kBM9QX",
        "colab_type": "code",
        "colab": {}
      },
      "source": [
        "\n",
        "class CustomLabelEncoder:\n",
        "    def __init__(self, columns=None):\n",
        "        self.columns = columns\n",
        "\n",
        "    def fit(self, X, y=None):\n",
        "        return self\n",
        "\n",
        "    def transform(self, X):\n",
        "        res = X.copy()\n",
        "        if self.columns is not None:\n",
        "            for col in self.columns:\n",
        "                res[col] = LabelEncoder().fit_transform(res[col])\n",
        "        else:\n",
        "            for colname, col in res.iteritems():\n",
        "                res[colname] = LabelEncoder().fit_transform(col)\n",
        "        return res\n",
        "\n",
        "    def fit_transform(self, X, y=None):\n",
        "        return self.fit(X, y).transform(X)"
      ],
      "execution_count": 0,
      "outputs": []
    },
    {
      "cell_type": "code",
      "metadata": {
        "trusted": true,
        "id": "PpyWuInkM9Qa",
        "colab_type": "code",
        "colab": {}
      },
      "source": [
        "# кодируем категориальные признаки\n",
        "clencoder = CustomLabelEncoder(columns=cat_columns)\n",
        "df = clencoder.fit_transform(df)\n",
        "df_test = clencoder.transform(df_test)"
      ],
      "execution_count": 0,
      "outputs": []
    },
    {
      "cell_type": "code",
      "metadata": {
        "trusted": true,
        "id": "R0NYnnDoM9Qd",
        "colab_type": "code",
        "colab": {}
      },
      "source": [
        "df[target] = df[target].fillna(0).astype(int)"
      ],
      "execution_count": 0,
      "outputs": []
    },
    {
      "cell_type": "code",
      "metadata": {
        "trusted": true,
        "id": "aICu20QlM9Qg",
        "colab_type": "code",
        "colab": {}
      },
      "source": [
        "\n",
        "train, test, y_train, y_test = train_test_split(df.drop(target, axis=1), df[target],\n",
        "                                                stratify=df[target], test_size=0.3, random_state=42)\n",
        "train[target] = y_train.values\n",
        "test[target] = y_test.values"
      ],
      "execution_count": 0,
      "outputs": []
    },
    {
      "cell_type": "code",
      "metadata": {
        "trusted": true,
        "id": "8mTpQcT3M9Qj",
        "colab_type": "code",
        "colab": {}
      },
      "source": [
        "def modelfit(alg, dtrain, predictors, useTrainCV=True, cv_folds=5, early_stopping_rounds=100):\n",
        "    if useTrainCV:\n",
        "        xgb_param = alg.get_xgb_params()\n",
        "        xgtrain = xgb.DMatrix(dtrain[predictors].values, label=dtrain[target].values)\n",
        "        cvresult = xgb.cv(xgb_param, xgtrain, num_boost_round=alg.get_params()['n_estimators'], nfold=cv_folds, stratified=True,\n",
        "            metrics='auc', early_stopping_rounds=early_stopping_rounds, verbose_eval=False, seed=27)\n",
        "        alg.set_params(n_estimators=cvresult.shape[0])\n",
        "    \n",
        "    alg.fit(dtrain[predictors], dtrain[target], early_stopping_rounds=early_stopping_rounds, verbose=False,\n",
        "            eval_metric='auc', eval_set=[(dtrain[predictors], dtrain[target]), (test[predictors], test[target])])\n",
        "        \n",
        "    test_predictions = alg.predict(test[predictors])\n",
        "    test_predprob = alg.predict_proba(test[predictors])[:,1]\n",
        "        \n",
        "    print(\"Accuracy : %.4g\" % metrics.accuracy_score(test[target].values, test_predictions))\n",
        "    print(\"PR-AUC: %.4g\" % metrics.average_precision_score(test[target], test_predictions))\n",
        "    print(\"ROC-AUC: %.4g\" % metrics.roc_auc_score(test[target], test_predprob))\n",
        "    print(\"F1: %.4g\" % metrics.f1_score(test[target], test_predictions))\n",
        "    print(\"Presision: %.4g\" % metrics.precision_score(test[target], test_predictions))\n",
        "    print(\"Recall: %.4g\" % metrics.recall_score(test[target], test_predictions))\n",
        "    print(\"Lift : %.4g\" % lift_score(test[target], test_predictions))"
      ],
      "execution_count": 0,
      "outputs": []
    },
    {
      "cell_type": "code",
      "metadata": {
        "trusted": true,
        "id": "y3ffUEsVM9Qm",
        "colab_type": "code",
        "colab": {
          "base_uri": "https://localhost:8080/",
          "height": 136
        },
        "outputId": "4e42672a-7c84-4cb2-8fb1-70c860ff32b1"
      },
      "source": [
        "# вручную подберем гиперпараметры модели на кросс-валидации\n",
        "predictors = [x for x in train.columns if x not in [target, IDcol]]\n",
        "\n",
        "xgb1 = XGBClassifier(learning_rate =0.01, n_estimators=2000, max_depth=2, min_child_weight=1,\n",
        "                     gamma=0, subsample=0.9, colsample_bytree=0.68, reg_alpha=0,\n",
        "                     objective= 'binary:logistic', nthread=4, scale_pos_weight=4, seed=27)\n",
        "modelfit(xgb1, train, predictors)"
      ],
      "execution_count": 9,
      "outputs": [
        {
          "output_type": "stream",
          "text": [
            "Accuracy : 0.9242\n",
            "PR-AUC: 0.1023\n",
            "ROC-AUC: 0.7448\n",
            "F1: 0.1186\n",
            "Presision: 0.4746\n",
            "Recall: 0.0678\n",
            "Lift : 6.309\n"
          ],
          "name": "stdout"
        }
      ]
    },
    {
      "cell_type": "code",
      "metadata": {
        "trusted": true,
        "id": "GC_zPQaqM9Qp",
        "colab_type": "code",
        "colab": {
          "base_uri": "https://localhost:8080/",
          "height": 136
        },
        "outputId": "6a28d81a-fecf-4a75-b6a8-472afcd76696"
      },
      "source": [
        "# исключим из выборки признаки, имеющие низкую корреляцию с целевой переменной (из задания первой недели)\n",
        "predictors = [x for x in train.columns if x not in [target, IDcol, 'Var198', 'Var220', 'Var133', 'Var140', 'Var32',\n",
        "                                                    'Var39', 'Var15', 'Var8', 'Var48', 'Var141', 'Var20', 'Var31',\n",
        "                                                    'Var42', 'Var52', 'Var55', 'Var79', 'Var167']]\n",
        "\n",
        "xgb2 = XGBClassifier(learning_rate =0.01, n_estimators=2000, max_depth=2, min_child_weight=1,\n",
        "                     gamma=0, subsample=0.9, colsample_bytree=0.68, reg_alpha=0,\n",
        "                     objective= 'binary:logistic', nthread=4, scale_pos_weight=4, seed=27)\n",
        "modelfit(xgb2, train, predictors)"
      ],
      "execution_count": 10,
      "outputs": [
        {
          "output_type": "stream",
          "text": [
            "Accuracy : 0.9231\n",
            "PR-AUC: 0.09833\n",
            "ROC-AUC: 0.745\n",
            "F1: 0.1134\n",
            "Presision: 0.4286\n",
            "Recall: 0.06538\n",
            "Lift : 5.697\n"
          ],
          "name": "stdout"
        }
      ]
    },
    {
      "cell_type": "code",
      "metadata": {
        "trusted": true,
        "id": "FabV3a9mM9Qs",
        "colab_type": "code",
        "colab": {}
      },
      "source": [
        "# сформируем submission на kaggle\n",
        "preds = xgb2.predict_proba(df_test[predictors])\n",
        "preds = pd.DataFrame(preds[:,1], columns=['result'])\n",
        "preds.to_csv(\"sub2.csv\", index=True, index_label='Id')"
      ],
      "execution_count": 0,
      "outputs": []
    },
    {
      "cell_type": "markdown",
      "metadata": {
        "id": "yqVejBvCM9Qw",
        "colab_type": "text"
      },
      "source": [
        "![](kaggle.png)"
      ]
    },
    {
      "cell_type": "code",
      "metadata": {
        "trusted": true,
        "id": "PsATyM_yM9Qw",
        "colab_type": "code",
        "colab": {
          "base_uri": "https://localhost:8080/",
          "height": 207
        },
        "outputId": "44758299-193c-4778-a22a-112e94fdd851"
      },
      "source": [
        "from IPython.display import Image\n",
        "from IPython.core.display import HTML\n",
        "Image(url= \"https://storage.googleapis.com/kagglesdsdata/datasets/608415/1089952/.JPG?GoogleAccessId=web-data@kaggle-161607.iam.gserviceaccount.com&Expires=1587418537&Signature=nAf%2FORaUmCgU7SdDOlwEswR%2B8blpHqE1HC5bTalTDC%2FuLDWQTrjQ4S35MgUHQvrLa7YfPWb1J3O4D6gmBNSfrrPK%2BhY3GqqO9TNnciLSJNPpkiLuC84A2u2wYAQnYZjh3yWKABLYKbj9NhFnME0tEM3cxHOKvEIAnzOJb8sDr8ClJTlHh%2F2enqByvEgAR%2FT6TL8OU3ikvM%2B%2FslOZxidEh5xVEBl7bFyxvja%2Bj6HVhajMQR7ofHIS2BEA5c3BhP08h%2BUnuVBuWmgiuWVv4%2FoJYzlF%2BkTB%2F3wcpBiPfTEpuL%2FAxuErQPhH6tIMb1Fafy9l1tLoM9iLboqhSoLCoRIVmg%3D%3D\") "
      ],
      "execution_count": 12,
      "outputs": [
        {
          "output_type": "execute_result",
          "data": {
            "text/html": [
              "<img src=\"https://storage.googleapis.com/kagglesdsdata/datasets/608415/1089952/.JPG?GoogleAccessId=web-data@kaggle-161607.iam.gserviceaccount.com&Expires=1587418537&Signature=nAf%2FORaUmCgU7SdDOlwEswR%2B8blpHqE1HC5bTalTDC%2FuLDWQTrjQ4S35MgUHQvrLa7YfPWb1J3O4D6gmBNSfrrPK%2BhY3GqqO9TNnciLSJNPpkiLuC84A2u2wYAQnYZjh3yWKABLYKbj9NhFnME0tEM3cxHOKvEIAnzOJb8sDr8ClJTlHh%2F2enqByvEgAR%2FT6TL8OU3ikvM%2B%2FslOZxidEh5xVEBl7bFyxvja%2Bj6HVhajMQR7ofHIS2BEA5c3BhP08h%2BUnuVBuWmgiuWVv4%2FoJYzlF%2BkTB%2F3wcpBiPfTEpuL%2FAxuErQPhH6tIMb1Fafy9l1tLoM9iLboqhSoLCoRIVmg%3D%3D\"/>"
            ],
            "text/plain": [
              "<IPython.core.display.Image object>"
            ]
          },
          "metadata": {
            "tags": []
          },
          "execution_count": 12
        }
      ]
    }
  ]
}