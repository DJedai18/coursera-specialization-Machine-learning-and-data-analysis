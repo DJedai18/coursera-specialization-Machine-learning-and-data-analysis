{
  "nbformat": 4,
  "nbformat_minor": 0,
  "metadata": {
    "colab": {
      "name": "Линейная регрессия и стохастический градиентный спуск",
      "version": "0.3.2",
      "provenance": [],
      "toc_visible": true
    },
    "kernelspec": {
      "name": "python3",
      "display_name": "Python 3"
    },
    "accelerator": "GPU"
  },
  "cells": [
    {
      "cell_type": "markdown",
      "metadata": {
        "id": "zeVNQGcc9E8u",
        "colab_type": "text"
      },
      "source": [
        "## Описание задачи  \n",
        "\n",
        "Задачи заключается в прогнозировании выручки компании в зависимости от уровня ее инвестиций в рекламу по TV, в газетах и по радио используя линейную регрессию и стохастический градиентный спуск.  \n",
        "\n",
        "## Подключение библиотек"
      ]
    },
    {
      "cell_type": "code",
      "metadata": {
        "id": "rsq898YI8-qi",
        "colab_type": "code",
        "colab": {}
      },
      "source": [
        "import pandas as pd\n",
        "import numpy as np\n"
      ],
      "execution_count": 0,
      "outputs": []
    },
    {
      "cell_type": "markdown",
      "metadata": {
        "id": "iJiqgm1N_ip3",
        "colab_type": "text"
      },
      "source": [
        "## Знакомство с данными"
      ]
    },
    {
      "cell_type": "code",
      "metadata": {
        "id": "iA6JYUHG_pyT",
        "colab_type": "code",
        "colab": {
          "base_uri": "https://localhost:8080/",
          "height": 0
        },
        "outputId": "9aeb0136-fec1-49cb-b4c9-4048fdbf68b1"
      },
      "source": [
        "df = pd.read_csv(r'https://d3c33hcgiwev3.cloudfront.net/_739f9073ae55f970a4924e22bcc93124_advertising.csv?Expires=1563667200&Signature=O2ko6l3J-VMw~B72oE0EJQZkYuin-WwKcD1el8NhbA2ynWQEYr6QgkBY-zqZutjzWSEoa8RWMIPVhOgf9rG3CCI81cow~qqJ3OCXat7CzaxgcnywJ1IrFgGnBMGPZNKD6NtCBfR8AeBZx1~WtB~zhgMawIJjyJMPprTnkwWTkmA_&Key-Pair-Id=APKAJLTNE6QMUY6HBC5A')\n",
        "df.head()"
      ],
      "execution_count": 95,
      "outputs": [
        {
          "output_type": "execute_result",
          "data": {
            "text/html": [
              "<div>\n",
              "<style scoped>\n",
              "    .dataframe tbody tr th:only-of-type {\n",
              "        vertical-align: middle;\n",
              "    }\n",
              "\n",
              "    .dataframe tbody tr th {\n",
              "        vertical-align: top;\n",
              "    }\n",
              "\n",
              "    .dataframe thead th {\n",
              "        text-align: right;\n",
              "    }\n",
              "</style>\n",
              "<table border=\"1\" class=\"dataframe\">\n",
              "  <thead>\n",
              "    <tr style=\"text-align: right;\">\n",
              "      <th></th>\n",
              "      <th>TV</th>\n",
              "      <th>Radio</th>\n",
              "      <th>Newspaper</th>\n",
              "      <th>Sales</th>\n",
              "    </tr>\n",
              "  </thead>\n",
              "  <tbody>\n",
              "    <tr>\n",
              "      <th>1</th>\n",
              "      <td>230.1</td>\n",
              "      <td>37.8</td>\n",
              "      <td>69.2</td>\n",
              "      <td>22.1</td>\n",
              "    </tr>\n",
              "    <tr>\n",
              "      <th>2</th>\n",
              "      <td>44.5</td>\n",
              "      <td>39.3</td>\n",
              "      <td>45.1</td>\n",
              "      <td>10.4</td>\n",
              "    </tr>\n",
              "    <tr>\n",
              "      <th>3</th>\n",
              "      <td>17.2</td>\n",
              "      <td>45.9</td>\n",
              "      <td>69.3</td>\n",
              "      <td>9.3</td>\n",
              "    </tr>\n",
              "    <tr>\n",
              "      <th>4</th>\n",
              "      <td>151.5</td>\n",
              "      <td>41.3</td>\n",
              "      <td>58.5</td>\n",
              "      <td>18.5</td>\n",
              "    </tr>\n",
              "    <tr>\n",
              "      <th>5</th>\n",
              "      <td>180.8</td>\n",
              "      <td>10.8</td>\n",
              "      <td>58.4</td>\n",
              "      <td>12.9</td>\n",
              "    </tr>\n",
              "  </tbody>\n",
              "</table>\n",
              "</div>"
            ],
            "text/plain": [
              "      TV  Radio  Newspaper  Sales\n",
              "1  230.1   37.8       69.2   22.1\n",
              "2   44.5   39.3       45.1   10.4\n",
              "3   17.2   45.9       69.3    9.3\n",
              "4  151.5   41.3       58.5   18.5\n",
              "5  180.8   10.8       58.4   12.9"
            ]
          },
          "metadata": {
            "tags": []
          },
          "execution_count": 95
        }
      ]
    },
    {
      "cell_type": "markdown",
      "metadata": {
        "id": "ovof0Bdx_9u9",
        "colab_type": "text"
      },
      "source": [
        "Текущий датасет представляет собой комбинацию инвестиций в 3 медийных канала (TV\tRadio\tNewspaper) и последующий уровень продаж Sales,  зависимость которого от уровня инвестиций мы попробуем аппроксимировать."
      ]
    },
    {
      "cell_type": "code",
      "metadata": {
        "id": "gJZGr7QtBNU_",
        "colab_type": "code",
        "colab": {
          "base_uri": "https://localhost:8080/",
          "height": 0
        },
        "outputId": "9b9451c9-c36c-4f8b-d306-97a2ded8325d"
      },
      "source": [
        "print('Количество пропущенных значений в датасете: {}'.format(df.isna().sum().sum()))\n",
        "df.info()"
      ],
      "execution_count": 96,
      "outputs": [
        {
          "output_type": "stream",
          "text": [
            "Количество пропущенных значений в датасете: 0\n",
            "<class 'pandas.core.frame.DataFrame'>\n",
            "Int64Index: 200 entries, 1 to 200\n",
            "Data columns (total 4 columns):\n",
            "TV           200 non-null float64\n",
            "Radio        200 non-null float64\n",
            "Newspaper    200 non-null float64\n",
            "Sales        200 non-null float64\n",
            "dtypes: float64(4)\n",
            "memory usage: 7.8 KB\n"
          ],
          "name": "stdout"
        }
      ]
    },
    {
      "cell_type": "markdown",
      "metadata": {
        "id": "aQMRI6f4Bw9V",
        "colab_type": "text"
      },
      "source": [
        "## Предобработка данных  \n",
        "\n",
        "Подготовим функцию для записи ответов в текстовый файл"
      ]
    },
    {
      "cell_type": "code",
      "metadata": {
        "id": "ykB8HvjOB8ZY",
        "colab_type": "code",
        "colab": {}
      },
      "source": [
        "def write_answer_to_file(answer, filename):\n",
        "    with open(filename, 'w') as f_out:\n",
        "        f_out.write(str(round(answer, 3)))"
      ],
      "execution_count": 0,
      "outputs": []
    },
    {
      "cell_type": "markdown",
      "metadata": {
        "id": "972TCI1pB_q1",
        "colab_type": "text"
      },
      "source": [
        "Создадим  массивы NumPy X из столбцов TV, Radio и Newspaper и y - из столбца Sales"
      ]
    },
    {
      "cell_type": "code",
      "metadata": {
        "id": "W31Nj0zOEGnB",
        "colab_type": "code",
        "colab": {}
      },
      "source": [
        "X = np.array(df.drop('Sales', axis=1).values)\n",
        "y = np.array(df['Sales'])"
      ],
      "execution_count": 0,
      "outputs": []
    },
    {
      "cell_type": "markdown",
      "metadata": {
        "id": "MYTFijUEHMfe",
        "colab_type": "text"
      },
      "source": [
        "Отмасштабируем столбцы матрицы X, вычтя из каждого значения среднее по соответствующему столбцу и поделив результат на стандартное отклонение"
      ]
    },
    {
      "cell_type": "code",
      "metadata": {
        "id": "XRWBzI2-HQHx",
        "colab_type": "code",
        "colab": {
          "base_uri": "https://localhost:8080/",
          "height": 51
        },
        "outputId": "32eb7f28-0963-4882-f62e-01ea92c73e37"
      },
      "source": [
        "means, stds = np.mean(X,axis=0), np.std(X, axis=0)\n",
        "means, stds"
      ],
      "execution_count": 109,
      "outputs": [
        {
          "output_type": "execute_result",
          "data": {
            "text/plain": [
              "(array([147.0425,  23.264 ,  30.554 ]),\n",
              " array([85.63933176, 14.80964564, 21.72410606]))"
            ]
          },
          "metadata": {
            "tags": []
          },
          "execution_count": 109
        }
      ]
    },
    {
      "cell_type": "code",
      "metadata": {
        "id": "y1_PJ-alKYXT",
        "colab_type": "code",
        "colab": {}
      },
      "source": [
        "X = (X-means)/stds"
      ],
      "execution_count": 0,
      "outputs": []
    },
    {
      "cell_type": "markdown",
      "metadata": {
        "id": "xY9BsawPSJXA",
        "colab_type": "text"
      },
      "source": [
        "Добавим к матрице X столбец из единиц. Вектор из единиц нужен для того, чтобы не обрабатывать отдельно коэффициент $w_0$\n",
        "  линейной регрессии."
      ]
    },
    {
      "cell_type": "code",
      "metadata": {
        "id": "x3ZMSnCzQ6oo",
        "colab_type": "code",
        "colab": {}
      },
      "source": [
        "n = np.shape(X)[0]\n",
        "ones = np.reshape(np.ones(n),(n,1))\n",
        "\n",
        "X = np.hstack((X,ones))"
      ],
      "execution_count": 0,
      "outputs": []
    },
    {
      "cell_type": "markdown",
      "metadata": {
        "id": "5gWJR6BPU6Hv",
        "colab_type": "text"
      },
      "source": [
        "Реализуем функцию mserror - среднеквадратичную ошибку прогноза. Она принимает два аргумента - объекты Series y (значения целевого признака) и y_pred (предсказанные значения)"
      ]
    },
    {
      "cell_type": "code",
      "metadata": {
        "id": "-0b0I8wKU9Zs",
        "colab_type": "code",
        "colab": {}
      },
      "source": [
        "def mserror(y, y_pred):\n",
        "  return np.mean((y-y_pred)**2)"
      ],
      "execution_count": 0,
      "outputs": []
    },
    {
      "cell_type": "markdown",
      "metadata": {
        "id": "0sKDqtSJVZ0n",
        "colab_type": "text"
      },
      "source": [
        "## Какова среднеквадратичная ошибка прогноза значений Sales, если всегда предсказывать медианное значение Sales по исходной выборке?"
      ]
    },
    {
      "cell_type": "code",
      "metadata": {
        "id": "Dh5yJhk8Vav3",
        "colab_type": "code",
        "colab": {
          "base_uri": "https://localhost:8080/",
          "height": 34
        },
        "outputId": "3390b149-a453-4073-adff-c93b722ae259"
      },
      "source": [
        "answer1 = mserror(y, np.median(y))\n",
        "print(answer1)\n",
        "write_answer_to_file(answer1, '1.txt')"
      ],
      "execution_count": 113,
      "outputs": [
        {
          "output_type": "stream",
          "text": [
            "28.34575\n"
          ],
          "name": "stdout"
        }
      ]
    },
    {
      "cell_type": "markdown",
      "metadata": {
        "id": "oxkM4lpUV7Vx",
        "colab_type": "text"
      },
      "source": [
        "## Какие продажи предсказываются линейной моделью с весами, найденными с помощью нормального уравнения, в случае средних инвестиций в рекламу по ТВ, радио и в газетах? (то есть при нулевых значениях масштабированных признаков TV, Radio и Newspaper)"
      ]
    },
    {
      "cell_type": "markdown",
      "metadata": {
        "id": "C1hylTzNV9hJ",
        "colab_type": "text"
      },
      "source": [
        "Реализуем функцию normal_equation, которая по заданным матрицам (массивам NumPy) X и y вычисляет вектор весов ww согласно нормальному уравнению линейной регрессии."
      ]
    },
    {
      "cell_type": "code",
      "metadata": {
        "id": "RzFny3MAWNFv",
        "colab_type": "code",
        "colab": {}
      },
      "source": [
        "def normal_equation(X, y):\n",
        "    return np.linalg.solve(np.dot(X.transpose(),X), np.dot(X.transpose(),y))"
      ],
      "execution_count": 0,
      "outputs": []
    },
    {
      "cell_type": "code",
      "metadata": {
        "id": "sm83EK3_WY9H",
        "colab_type": "code",
        "colab": {
          "base_uri": "https://localhost:8080/",
          "height": 34
        },
        "outputId": "d4be013a-4694-482b-be85-db8d03349994"
      },
      "source": [
        "norm_eq_weights = normal_equation(X, y)\n",
        "print(norm_eq_weights)"
      ],
      "execution_count": 116,
      "outputs": [
        {
          "output_type": "stream",
          "text": [
            "[ 3.91925365  2.79206274 -0.02253861 14.0225    ]\n"
          ],
          "name": "stdout"
        }
      ]
    },
    {
      "cell_type": "code",
      "metadata": {
        "id": "Qul_jnIK8u8S",
        "colab_type": "code",
        "colab": {
          "base_uri": "https://localhost:8080/",
          "height": 34
        },
        "outputId": "393e5f13-50e6-4355-e6a0-08164d63ce24"
      },
      "source": [
        "answer2 = np.sum([0., 0., 0., 1.]*norm_eq_weights)\n",
        "print(answer2)\n",
        "write_answer_to_file(answer2, '2.txt')"
      ],
      "execution_count": 117,
      "outputs": [
        {
          "output_type": "stream",
          "text": [
            "14.022500000000003\n"
          ],
          "name": "stdout"
        }
      ]
    },
    {
      "cell_type": "markdown",
      "metadata": {
        "id": "KbyAfQ-Z8ziT",
        "colab_type": "text"
      },
      "source": [
        "## Какова среднеквадратичная ошибка прогноза значений Sales в виде линейной модели с весами, найденными с помощью нормального уравнения?   \n",
        "\n",
        "Напишем функцию linear_prediction, которая принимает на вход матрицу X и вектор весов линейной модели w, а возвращает вектор прогнозов в виде линейной комбинации столбцов матрицы X с весами w"
      ]
    },
    {
      "cell_type": "code",
      "metadata": {
        "id": "dmQFhurE87Uk",
        "colab_type": "code",
        "colab": {}
      },
      "source": [
        "def linear_prediction(X, w):\n",
        "    return np.dot(X,w)"
      ],
      "execution_count": 0,
      "outputs": []
    },
    {
      "cell_type": "code",
      "metadata": {
        "id": "ToDsROqN8-70",
        "colab_type": "code",
        "colab": {
          "base_uri": "https://localhost:8080/",
          "height": 34
        },
        "outputId": "a9f0aa24-06a2-4ec3-923f-441ae7434b28"
      },
      "source": [
        "lin_pred = linear_prediction(X,norm_eq_weights)\n",
        "answer3 = mserror(y,lin_pred)\n",
        "print(answer3)\n",
        "write_answer_to_file(answer3, '3.txt')"
      ],
      "execution_count": 119,
      "outputs": [
        {
          "output_type": "stream",
          "text": [
            "2.784126314510936\n"
          ],
          "name": "stdout"
        }
      ]
    },
    {
      "cell_type": "markdown",
      "metadata": {
        "id": "bCidRfIs9Iyc",
        "colab_type": "text"
      },
      "source": [
        "## Какова среднеквадратичная ошибка прогноза значений Sales в виде линейной модели с весами, найденными с помощью градиентного спуска?  \n",
        "\n",
        "Напишем функцию stochastic_gradient_step, реализующую шаг стохастического градиентного спуска для линейной регрессии. Функция должна принимать матрицу X, вектора y и w, число train_ind - индекс объекта обучающей выборки (строки матрицы X), по которому считается изменение весов, а также число $\\eta$ (eta) - шаг градиентного спуска (по умолчанию eta=0.01). Результатом будет вектор обновленных весов."
      ]
    },
    {
      "cell_type": "code",
      "metadata": {
        "id": "xEK2koYj9QJM",
        "colab_type": "code",
        "colab": {}
      },
      "source": [
        "def stochastic_gradient_step(X, y, w, train_ind, eta=0.01):\n",
        "    return w + 2 * eta/X.shape[0] * X[train_ind] * (y[train_ind] - linear_prediction(X[train_ind], w))"
      ],
      "execution_count": 0,
      "outputs": []
    },
    {
      "cell_type": "markdown",
      "metadata": {
        "id": "_jwrpKbW9bRt",
        "colab_type": "text"
      },
      "source": [
        "Напишите функцию stochastic_gradient_descent, реализующую стохастический градиентный спуск для линейной регрессии. Функция принимает на вход следующие аргументы:\n",
        "\n",
        "* X - матрица, соответствующая обучающей выборке\n",
        "* y - вектор значений целевого признака\n",
        "* w_init - вектор начальных весов модели\n",
        "* eta - шаг градиентного спуска (по умолчанию 0.01)\n",
        "* max_iter - максимальное число итераций градиентного спуска (по умолчанию 10000)\n",
        "* max_weight_dist - минимальное евклидово расстояние между векторами весов на соседних итерациях градиентного спуска, при котором алгоритм прекращает работу (по умолчанию 1e-8)\n",
        "* seed - число, используемое для воспроизводимости сгенерированных псевдослучайных чисел (по умолчанию 42)\n",
        "* verbose - флаг печати информации (например, для отладки, по умолчанию False)  \n",
        "\n",
        "На каждой итерации в вектор (список) должно записываться текущее значение среднеквадратичной ошибки. Функция должна возвращать вектор весов $w$, а также вектор (список) ошибок."
      ]
    },
    {
      "cell_type": "code",
      "metadata": {
        "id": "Etjx3LaJ9cO8",
        "colab_type": "code",
        "colab": {}
      },
      "source": [
        "def stochastic_gradient_descent(X, y, w_init, eta=1e-2, max_iter=1e4,\n",
        "                                min_weight_dist=1e-8, seed=42, verbose=False):\n",
        "    # Инициализируем расстояние между векторами весов на соседних\n",
        "    # итерациях большим числом. \n",
        "    weight_dist = np.inf\n",
        "    # Инициализируем вектор весов\n",
        "    w = w_init\n",
        "    # Сюда будем записывать ошибки на каждой итерации\n",
        "    errors = []\n",
        "    # Счетчик итераций\n",
        "    iter_num = 0\n",
        "    # Будем порождать псевдослучайные числа \n",
        "    # (номер объекта, который будет менять веса), а для воспроизводимости\n",
        "    # этой последовательности псевдослучайных чисел используем seed.\n",
        "    np.random.seed(seed)\n",
        "        \n",
        "    # Основной цикл\n",
        "    while weight_dist > min_weight_dist and iter_num < max_iter:\n",
        "        # порождаем псевдослучайный \n",
        "        # индекс объекта обучающей выборки\n",
        "        random_ind = np.random.randint(X.shape[0])\n",
        "        \n",
        "        w_new = stochastic_gradient_step(X, y, w, random_ind, eta)\n",
        "        weight_dist = np.linalg.norm(w-w_new)\n",
        "        w = w_new\n",
        "        errors.append(mserror(y, linear_prediction(X, w)))\n",
        "        iter_num += 1\n",
        "\n",
        "        \n",
        "    return w, errors"
      ],
      "execution_count": 0,
      "outputs": []
    },
    {
      "cell_type": "markdown",
      "metadata": {
        "id": "yYDLPBTj90Sf",
        "colab_type": "text"
      },
      "source": [
        "Запустите $10^5$ итераций стохастического градиентного спуска. Укажите вектор начальных весов w_init, состоящий из нулей. Оставьте параметры eta и seed равными их значениям по умолчанию (eta=0.01, seed=42 - это важно для проверки ответов)."
      ]
    },
    {
      "cell_type": "code",
      "metadata": {
        "id": "vvFDDXSZ909T",
        "colab_type": "code",
        "colab": {
          "base_uri": "https://localhost:8080/",
          "height": 51
        },
        "outputId": "818169bd-f75a-4d13-bf97-dbd1496a2b73"
      },
      "source": [
        "%%time\n",
        "stoch_grad_desc_weights, stoch_errors_by_iter = stochastic_gradient_descent(X, y, np.zeros(X.shape[1]),max_iter=1e5)"
      ],
      "execution_count": 122,
      "outputs": [
        {
          "output_type": "stream",
          "text": [
            "CPU times: user 2.94 s, sys: 0 ns, total: 2.94 s\n",
            "Wall time: 2.94 s\n"
          ],
          "name": "stdout"
        }
      ]
    },
    {
      "cell_type": "markdown",
      "metadata": {
        "id": "WCOGsffA9-us",
        "colab_type": "text"
      },
      "source": [
        "Посмотрим, чему равна ошибка на первых 50 итерациях стохастического градиентного спуска. Видим, что ошибка не обязательно уменьшается на каждой итерации."
      ]
    },
    {
      "cell_type": "code",
      "metadata": {
        "id": "BQiTk5zg9_h7",
        "colab_type": "code",
        "colab": {
          "base_uri": "https://localhost:8080/",
          "height": 368
        },
        "outputId": "1b211d54-1189-46f2-c84d-9c5aac1aa1de"
      },
      "source": [
        "%pylab inline\n",
        "plot(range(len(stoch_errors_by_iter)), stoch_errors_by_iter)\n",
        "xlabel('Iteration number')\n",
        "ylabel('MSE')"
      ],
      "execution_count": 123,
      "outputs": [
        {
          "output_type": "stream",
          "text": [
            "Populating the interactive namespace from numpy and matplotlib\n"
          ],
          "name": "stdout"
        },
        {
          "output_type": "stream",
          "text": [
            "/usr/local/lib/python3.6/dist-packages/IPython/core/magics/pylab.py:161: UserWarning: pylab import has clobbered these variables: ['ones']\n",
            "`%matplotlib` prevents importing * from pylab and numpy\n",
            "  \"\\n`%matplotlib` prevents importing * from pylab and numpy\"\n"
          ],
          "name": "stderr"
        },
        {
          "output_type": "execute_result",
          "data": {
            "text/plain": [
              "Text(0, 0.5, 'MSE')"
            ]
          },
          "metadata": {
            "tags": []
          },
          "execution_count": 123
        },
        {
          "output_type": "display_data",
          "data": {
            "image/png": "[encoded data removed]",
            "text/plain": [
              "<Figure size 432x288 with 1 Axes>"
            ]
          },
          "metadata": {
            "tags": []
          }
        }
      ]
    },
    {
      "cell_type": "markdown",
      "metadata": {
        "id": "H4KIb92e-D_b",
        "colab_type": "text"
      },
      "source": [
        "Посмотрим на вектор весов, к которому сошелся метод."
      ]
    },
    {
      "cell_type": "code",
      "metadata": {
        "id": "SkwEqh9z-GGj",
        "colab_type": "code",
        "colab": {
          "base_uri": "https://localhost:8080/",
          "height": 34
        },
        "outputId": "d8a26973-231a-4ba9-c153-29712c7f43c5"
      },
      "source": [
        "stoch_grad_desc_weights\n"
      ],
      "execution_count": 124,
      "outputs": [
        {
          "output_type": "execute_result",
          "data": {
            "text/plain": [
              "array([ 3.91069256e+00,  2.78209808e+00, -8.10462217e-03,  1.40190566e+01])"
            ]
          },
          "metadata": {
            "tags": []
          },
          "execution_count": 124
        }
      ]
    },
    {
      "cell_type": "markdown",
      "metadata": {
        "id": "cN2IXBE--I_s",
        "colab_type": "text"
      },
      "source": [
        "Посмотрим на среднеквадратичную ошибку на последней итерации."
      ]
    },
    {
      "cell_type": "code",
      "metadata": {
        "id": "UbIgAkLb-M-t",
        "colab_type": "code",
        "colab": {
          "base_uri": "https://localhost:8080/",
          "height": 34
        },
        "outputId": "3bce0ff7-39ce-4ac1-e3f6-cabd970d9ccd"
      },
      "source": [
        "stoch_errors_by_iter[-1]\n"
      ],
      "execution_count": 125,
      "outputs": [
        {
          "output_type": "execute_result",
          "data": {
            "text/plain": [
              "2.784412588406704"
            ]
          },
          "metadata": {
            "tags": []
          },
          "execution_count": 125
        }
      ]
    },
    {
      "cell_type": "code",
      "metadata": {
        "id": "C207f7KA-R5s",
        "colab_type": "code",
        "colab": {
          "base_uri": "https://localhost:8080/",
          "height": 34
        },
        "outputId": "3c056b5a-2f09-4a4f-9cd7-af6daf3184be"
      },
      "source": [
        "answer4 = mserror(y, linear_prediction(X, stoch_grad_desc_weights))\n",
        "print(answer4)\n",
        "write_answer_to_file(answer4, '4.txt')"
      ],
      "execution_count": 126,
      "outputs": [
        {
          "output_type": "stream",
          "text": [
            "2.784412588406704\n"
          ],
          "name": "stdout"
        }
      ]
    }
  ]
}